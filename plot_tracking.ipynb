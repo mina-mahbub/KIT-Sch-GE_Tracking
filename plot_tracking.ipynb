{
 "cells": [
  {
   "cell_type": "code",
   "execution_count": null,
   "metadata": {},
   "outputs": [],
   "source": [
    "import tifffile as tiff\n",
    "import matplotlib.pyplot as plt\n",
    "import numpy as np\n",
    "import pandas as pd\n",
    "import os\n",
    "from PIL import Image\n",
    "\n",
    "image_array = []\n",
    "\n",
    "for i in range(250):\n",
    "    # Path to the raw image (like datasets/raw/Cell_Data/02/imagename.tif)\n",
    "    og_img = tiff.imread(f\"/home/MinaHossain/DMNet_Rina/training_codes/Data/train/Cell-Data-M/02/t{i:04d}.tif\")\n",
    "\n",
    "    # Path to the actual mask (like datasets/raw/Cell_Data/02_GT/SEG/imagename.tif)\n",
    "    gt_mask=tiff.imread(f\"/home/MinaHossain/DMNet_Rina/Cell-Data-M/04_RES-GT/mask{i:04d}.tif\")\n",
    "    gt_mask = np.ma.masked_where(gt_mask == 0, gt_mask)\n",
    "\n",
    "    # Path to the segmentation mask (like test_restuls/mask____.tif)\n",
    "    pred_mask =tiff.imread(f\"/home/MinaHossain/DMNet_Rina_Tracking/results/Cell-Data-M/mask{i:03d}.tif\")\n",
    "    pred_mask = np.ma.masked_where(pred_mask == 0, pred_mask)\n",
    "    # print(np.unique(pred_mask))\n",
    "\n",
    "    fig, ax = plt.subplots(1, 3)\n",
    "    fig.set_size_inches(15, 4)\n",
    "    fig.suptitle('Test results from DMNet ',fontsize=20)\n",
    "\n",
    "    ax[0].imshow(og_img, cmap='gist_gray',alpha=0.9, vmin=0)\n",
    "    ax[1].imshow(gt_mask, cmap='tab20',alpha=0.8, vmin=0)\n",
    "    ax[2].imshow(pred_mask, cmap='tab20',alpha=0.8, vmin=0)\n",
    "    \n",
    "\n",
    "    ax[0].title.set_text(f'Original Image: {pred_mask.shape}')\n",
    "    ax[1].title.set_text(f'Original Mask: {pred_mask.shape}')\n",
    "    ax[2].title.set_text(f'Test Output Mask : {pred_mask.shape}')\n",
    "  \n",
    "\n",
    "    fig.tight_layout()\n",
    "    fig.subplots_adjust(top=0.9)\n",
    "    plt.savefig(f\"/home/MinaHossain/DMNet_Rina_Tracking/results/Cell-Data-M/tmp{i:04d}.png\")\n",
    "    plt.clf()\n",
    "    plt.cla()\n",
    "    plt.close()\n",
    "\n",
    "    img = Image.open(f\"/home/MinaHossain/DMNet_Rina_Tracking/results/Cell-Data-M/tmp{i:04d}.png\")\n",
    "    image_array.append(img)"
   ]
  },
  {
   "cell_type": "code",
   "execution_count": null,
   "metadata": {},
   "outputs": [],
   "source": [
    "import matplotlib.pyplot as plt\n",
    "import matplotlib.animation as animation\n",
    "\n",
    "fig, ax = plt.subplots()\n",
    "fig.set_size_inches(15, 4)\n",
    "\n",
    "\n",
    "\n",
    "im = ax.imshow(image_array[0], animated=True)\n",
    "\n",
    "def update(i):\n",
    "    im.set_array(image_array[i])\n",
    "    return im,\n",
    "\n",
    "# Create the animation object\n",
    "animation_fig = animation.FuncAnimation(fig, update, frames=len(image_array), interval=1000, blit=True,repeat_delay=10,)\n",
    "animation_fig.save(\"/home/MinaHossain/DMNet_Rina_Tracking/results/Cell-Data-M.gif\")\n",
    "# Show the animation\n",
    "plt.show()"
   ]
  }
 ],
 "metadata": {
  "kernelspec": {
   "display_name": "venv_graph_tracking_kit_sch_ge_2021",
   "language": "python",
   "name": "python3"
  },
  "language_info": {
   "codemirror_mode": {
    "name": "ipython",
    "version": 3
   },
   "file_extension": ".py",
   "mimetype": "text/x-python",
   "name": "python",
   "nbconvert_exporter": "python",
   "pygments_lexer": "ipython3",
   "version": "3.8.5"
  }
 },
 "nbformat": 4,
 "nbformat_minor": 2
}
