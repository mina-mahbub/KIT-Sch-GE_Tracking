{
 "cells": [
  {
   "cell_type": "markdown",
   "metadata": {},
   "source": [
    "# Tracking Ground Truth\n",
    "\n",
    "We originally attempted to manually relabel the images to create tracking ground truth.  \n",
    "Unfortunately we made a mistake, and thus can't use those relabelings to get TRA metrics.  \n",
    "\n",
    "We propose just applying the KIT tracking algorithm to the ground truth segmentations, and using that as the reference tracking ground truth.  \n",
    "\n",
    "In initial testing, we see that the tracking results produces many more cells than we previously thought were in the image.  \n",
    "I believe this is because there are gaps in time between some of the images that are longer than the frame rate.  \n",
    "That is there was a gap in the video sequence, but they are considered to be part of the same sequence.  \n",
    "This means every once in a while some cells will jump quite a lot, leading to the tracking algorithm to create new cells (because it looks like the cells split).  \n",
    "\n",
    "We know this is not the best way to have gotten the ground truth tracking (the labelers should have done it), but this is the best we can do.  \n",
    "Additionally, since we are applying the tracking algorithm to the same sequence of images from our segmentation models, we would expect there to be similar erroneous cell splitings.  "
   ]
  },
  {
   "cell_type": "markdown",
   "metadata": {},
   "source": [
    "Copy and rename 02_GT/SEG so that we can apply tracking to it."
   ]
  },
  {
   "cell_type": "code",
   "execution_count": null,
   "metadata": {},
   "outputs": [],
   "source": [
    "import tifffile as tiff\n",
    "import matplotlib.pyplot as plt\n",
    "import matplotlib.animation as animation\n",
    "import numpy as np\n",
    "import pandas as pd\n",
    "import os\n",
    "from PIL import Image\n",
    "import re\n",
    "import csv\n",
    "import shutil\n",
    "from skimage.morphology import dilation, erosion\n",
    "from tqdm import tqdm"
   ]
  },
  {
   "cell_type": "code",
   "execution_count": null,
   "metadata": {},
   "outputs": [],
   "source": [
    "input_dir = \"/home/MinaHossain/DMNet_Rina_Tracking/6row_images/02_GT/SEG\"\n",
    "tmp_output = \"/home/MinaHossain/DMNet_Rina_Tracking/6row_images/TMP_TRA\"\n",
    "tmp_output2 = \"/home/MinaHossain/DMNet_Rina_Tracking/6row_images/TMP_TRA2\"\n",
    "\n",
    "# Make copy of SEG so that we can rename\n",
    "if os.path.exists(tmp_output):\n",
    "    shutil.rmtree(tmp_output)\n",
    "shutil.copytree(input_dir, tmp_output)\n",
    "\n",
    "# Rename each file\n",
    "for filename in os.listdir(input_dir):\n",
    "    og_name = os.path.join(tmp_output, filename)\n",
    "    nw_name = os.path.join(tmp_output, f'mask{filename.split(\".\")[0][7:]}.tif')\n",
    "    os.rename(og_name, nw_name)"
   ]
  },
  {
   "cell_type": "markdown",
   "metadata": {},
   "source": [
    "Now we need to apply the tracking algorithm to these images\n",
    "\n",
    "`cd /home/MinaHossain/DMNet_Rina_Tracking/2021-cell-tracking`\n",
    "\n",
    "`python -m run_tracking --image_path /home/MinaHossain/DMNet_Rina_Tracking/6row_images/02 --segmentation_path /home/MinaHossain/DMNet_Rina_Tracking/6row_images/TMP_TRA --results_path /home/MinaHossain/DMNet_Rina_Tracking/6row_images/TMP_TRA2`"
   ]
  },
  {
   "cell_type": "markdown",
   "metadata": {},
   "source": [
    "Save copy of the original 02_GT"
   ]
  },
  {
   "cell_type": "code",
   "execution_count": null,
   "metadata": {},
   "outputs": [],
   "source": [
    "input_dir = \"/home/MinaHossain/DMNet_Rina_Tracking/6row_images/02_GT\"\n",
    "copy_dir = \"/home/MinaHossain/DMNet_Rina_Tracking/6row_images/02_GT_ORIGINAL\"\n",
    "\n",
    "if os.path.exists(copy_dir):\n",
    "    print(\"Copy appears to already exist\")\n",
    "else:\n",
    "    shutil.copytree(input_dir, copy_dir)"
   ]
  },
  {
   "cell_type": "markdown",
   "metadata": {},
   "source": [
    " Place updated tracking frames in 02_GT"
   ]
  },
  {
   "cell_type": "code",
   "execution_count": null,
   "metadata": {},
   "outputs": [],
   "source": [
    "final_dir = \"/home/MinaHossain/DMNet_Rina_Tracking/6row_images/02_GT/TRA\"\n",
    "\n",
    "# Make copy of SEG so that we can rename\n",
    "if os.path.exists(final_dir):\n",
    "    shutil.rmtree(final_dir)\n",
    "shutil.copytree(tmp_output2, final_dir)\n",
    "\n",
    "\n",
    "# Rename each file\n",
    "for filename in os.listdir(final_dir):\n",
    "    fname, extension = os.path.splitext(filename)\n",
    "    if extension == \".txt\":\n",
    "        os.rename(os.path.join(final_dir, filename), os.path.join(final_dir, \"man_track.txt\"))\n",
    "    else:\n",
    "        og_name = os.path.join(final_dir, filename)\n",
    "        nw_name = os.path.join(final_dir, f'man_track{filename.split(\".\")[0][4:]}.tif')\n",
    "        os.rename(og_name, nw_name)"
   ]
  },
  {
   "cell_type": "markdown",
   "metadata": {},
   "source": [
    "Clean up temp directories"
   ]
  },
  {
   "cell_type": "code",
   "execution_count": null,
   "metadata": {},
   "outputs": [],
   "source": [
    "shutil.rmtree(tmp_output)\n",
    "shutil.rmtree(tmp_output2)"
   ]
  },
  {
   "cell_type": "markdown",
   "metadata": {},
   "source": [
    "# Example of where there appears to be a larger gap in time"
   ]
  },
  {
   "cell_type": "code",
   "execution_count": null,
   "metadata": {},
   "outputs": [],
   "source": [
    "def make_np(img):\n",
    "    return np.array(img)\n",
    "\n",
    "def shuffle_labels(img, seed=789):\n",
    "    # Find the unique labels, excluding 0 (background)\n",
    "    array = make_np(img)\n",
    "    unique_labels = np.unique(array[array != 0])\n",
    "\n",
    "    # Generate new labels (random and unique) for each cell type\n",
    "    # Ensure new labels do not conflict with existing labels\n",
    "    # max_label = array.max()\n",
    "    max_label = 0\n",
    "    new_labels = np.arange(max_label + 1, max_label + 1 + len(unique_labels))\n",
    "\n",
    "    # Randomly shuffle the new labels\n",
    "    np.random.seed(seed)\n",
    "    np.random.shuffle(new_labels)\n",
    "\n",
    "    # Create a mapping from old labels to new labels\n",
    "    label_mapping = {old: new for old, new in zip(unique_labels, new_labels)}\n",
    "\n",
    "    # Apply the mapping to the array\n",
    "    shuffled_array = np.copy(array)\n",
    "    for old_label, new_label in label_mapping.items():\n",
    "        shuffled_array[array == old_label] = new_label\n",
    "    return shuffled_array\n",
    "\n",
    "def plot_labels(shuffled, original, ax, title=None,\n",
    "                txt_args={'color':'red', 'ha':'center', 'va':'center', \n",
    "                          'fontsize':'x-large', 'fontweight':'bold'}):\n",
    "    ax.imshow(shuffled, cmap='gist_earth')\n",
    "    ax.set_title(title)\n",
    "    for label in np.unique(original):\n",
    "        if label != 0:\n",
    "            inds = np.argwhere(original == label)\n",
    "            loc = inds.mean(0)\n",
    "            ax.text(loc[1], loc[0], str(label), **txt_args)\n",
    "\n",
    "\n",
    "def read_changes(file_path, row):\n",
    "    with open(file_path, 'r') as handle:\n",
    "        reader = csv.reader(handle, delimiter=' ')\n",
    "        for i in range(row):\n",
    "            next(reader)\n",
    "        curr_row = next(reader)\n",
    "        tuples = [tuple(map(int, item.split(','))) for item in curr_row]\n",
    "    return tuples\n",
    "\n",
    "def relabel_image(original, file_path, row):\n",
    "    tuples = read_changes(file_path, row)\n",
    "    new_img = original.copy()\n",
    "    for t in tuples:\n",
    "        new_img[original == t[0]] = t[1]\n",
    "    return new_img"
   ]
  },
  {
   "cell_type": "code",
   "execution_count": null,
   "metadata": {},
   "outputs": [],
   "source": [
    "fig, axs = plt.subplots(1, 4)\n",
    "fig.set_size_inches(40, 20)\n",
    "\n",
    "\n",
    "for i, frame in enumerate(range(49, 53)):\n",
    "    seg_img = Image.open(f\"/home/MinaHossain/DMNet_Rina_Tracking/6row_images/02_GT_ORIGINAL/TRA/man_track{frame:04d}.tif\").convert('L')\n",
    "    seg_shuf = shuffle_labels(make_np(seg_img))\n",
    "    plot_labels(seg_shuf, make_np(seg_img), axs[i], f\"Frame {frame}\")\n",
    "\n",
    "plt.show()"
   ]
  },
  {
   "cell_type": "code",
   "execution_count": null,
   "metadata": {},
   "outputs": [],
   "source": [
    "fig, axs = plt.subplots(1, 4)\n",
    "fig.set_size_inches(40, 20)\n",
    "\n",
    "\n",
    "for i, frame in enumerate(range(49, 53)):\n",
    "    seg_img = Image.open(f\"/home/MinaHossain/DMNet_Rina_Tracking/6row_images/02_GT/TRA/man_track{frame:04d}.tif\").convert('L')\n",
    "    seg_shuf = shuffle_labels(make_np(seg_img))\n",
    "    plot_labels(seg_shuf, make_np(seg_img), axs[i], f\"Frame {frame}\")\n",
    "\n",
    "plt.show()"
   ]
  }
 ],
 "metadata": {
  "kernelspec": {
   "display_name": "base",
   "language": "python",
   "name": "python3"
  },
  "language_info": {
   "codemirror_mode": {
    "name": "ipython",
    "version": 3
   },
   "file_extension": ".py",
   "mimetype": "text/x-python",
   "name": "python",
   "nbconvert_exporter": "python",
   "pygments_lexer": "ipython3",
   "version": "3.8.5"
  }
 },
 "nbformat": 4,
 "nbformat_minor": 2
}
